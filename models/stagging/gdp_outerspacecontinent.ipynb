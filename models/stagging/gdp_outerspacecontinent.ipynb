{
 "cells": [
  {
   "cell_type": "code",
   "execution_count": 1,
   "metadata": {},
   "outputs": [],
   "source": [
    "import pandas as pd\n",
    "import numpy as np\n",
    "import matplotlib.pyplot as plt\n",
    "import seaborn as sns\n",
    "from sklearn.preprocessing import StandardScaler\n",
    "from sklearn.model_selection import train_test_split\n",
    "from sklearn.linear_model import LogisticRegression\n",
    "from sklearn.metrics import classification_report\n",
    "from sklearn.metrics import confusion_matrix\n",
    "from sklearn.metrics import accuracy_score\n"
   ]
  },
  {
   "cell_type": "code",
   "execution_count": 16,
   "metadata": {},
   "outputs": [
    {
     "name": "stdout",
     "output_type": "stream",
     "text": [
      "  country,gdp,prior_gdp,light,prior_light, Continent\n",
      "0  USA,11.10679316,7.373445749,4.227016781,4.4821...\n",
      "1  Japan,543.0169338,464.1676591,11.92591769,11.8...\n",
      "2  Germany,2.152312442,1.792502747,10.57326684,9....\n",
      "3  China,16.55816655,4.900694027,1.451034201,0.73...\n",
      "4  UK,1.098384022,0.753747917,11.85554258,13.3919...\n"
     ]
    }
   ],
   "source": [
    "import pandas as pd\n",
    "\n",
    "# Path to the file\n",
    "file_path = '/Users/kudzanaikutsanzira/Downloads/New Folder With Items/GDPfromOuterSpaceContinent.xlsx'\n",
    "\n",
    "# Load the Excel file\n",
    "df = pd.read_excel(file_path)\n",
    "\n",
    "# Display the first few rows of the dataset\n",
    "print(df.head())\n"
   ]
  },
  {
   "cell_type": "code",
   "execution_count": 9,
   "metadata": {},
   "outputs": [
    {
     "name": "stdout",
     "output_type": "stream",
     "text": [
      "    country,gdp,prior_gdp,light,prior_light, Continent\n",
      "165  Uzbekistan,1.486802454,0.983226379,1.635382109...\n",
      "166  Venezuela,0.048871355,0.038868261,1.424397161,...\n",
      "167  Samoa,0.001036411,0.000620675,0.552702475,0.38...\n",
      "168  Yemen,0.270938873,0.142525797,0.649841368,0.34...\n",
      "169  Zambia,3.252155015,2.372258356,0.096819804,0.0...\n"
     ]
    }
   ],
   "source": [
    "# Display the last few rows of the dataset\n",
    "print(df.tail())\n",
    "    "
   ]
  },
  {
   "cell_type": "code",
   "execution_count": 10,
   "metadata": {},
   "outputs": [
    {
     "name": "stdout",
     "output_type": "stream",
     "text": [
      "<class 'pandas.core.frame.DataFrame'>\n",
      "RangeIndex: 170 entries, 0 to 169\n",
      "Data columns (total 1 columns):\n",
      " #   Column                                              Non-Null Count  Dtype \n",
      "---  ------                                              --------------  ----- \n",
      " 0   country,gdp,prior_gdp,light,prior_light, Continent  170 non-null    object\n",
      "dtypes: object(1)\n",
      "memory usage: 1.5+ KB\n",
      "None\n"
     ]
    }
   ],
   "source": [
    "print(df.info())\n",
    "    "
   ]
  },
  {
   "cell_type": "code",
   "execution_count": 11,
   "metadata": {},
   "outputs": [
    {
     "name": "stdout",
     "output_type": "stream",
     "text": [
      "       country,gdp,prior_gdp,light,prior_light, Continent\n",
      "count                                                 170\n",
      "unique                                                170\n",
      "top     USA,11.10679316,7.373445749,4.227016781,4.4821...\n",
      "freq                                                    1\n"
     ]
    }
   ],
   "source": [
    "print(df.describe())\n",
    "    "
   ]
  },
  {
   "cell_type": "code",
   "execution_count": 12,
   "metadata": {},
   "outputs": [
    {
     "name": "stdout",
     "output_type": "stream",
     "text": [
      "country,gdp,prior_gdp,light,prior_light, Continent    0\n",
      "dtype: int64\n"
     ]
    }
   ],
   "source": [
    "# Check for missing values\n",
    "print(df.isnull().sum())\n"
   ]
  },
  {
   "cell_type": "code",
   "execution_count": 13,
   "metadata": {},
   "outputs": [
    {
     "name": "stdout",
     "output_type": "stream",
     "text": [
      "0\n"
     ]
    }
   ],
   "source": [
    "# Check for duplicates\n",
    "print(df.duplicated().sum())\n"
   ]
  },
  {
   "cell_type": "code",
   "execution_count": 15,
   "metadata": {},
   "outputs": [
    {
     "name": "stdout",
     "output_type": "stream",
     "text": [
      "The 'Year' column does not exist in the dataframe.\n"
     ]
    }
   ],
   "source": [
    "    if 'Year' in df.columns:\n",
    "        df['Year'] = pd.to_datetime(df['Year'], format='%Y')\n",
    "        print(df.info())\n",
    "    else:\n",
    "        print(\"The 'Year' column does not exist in the dataframe.\")\n"
   ]
  },
  {
   "cell_type": "code",
   "execution_count": null,
   "metadata": {},
   "outputs": [],
   "source": []
  }
 ],
 "metadata": {
  "kernelspec": {
   "display_name": "base",
   "language": "python",
   "name": "python3"
  },
  "language_info": {
   "codemirror_mode": {
    "name": "ipython",
    "version": 3
   },
   "file_extension": ".py",
   "mimetype": "text/x-python",
   "name": "python",
   "nbconvert_exporter": "python",
   "pygments_lexer": "ipython3",
   "version": "3.12.2"
  }
 },
 "nbformat": 4,
 "nbformat_minor": 2
}
